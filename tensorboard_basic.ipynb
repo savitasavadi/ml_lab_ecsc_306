{
 "cells": [
  {
   "cell_type": "code",
   "execution_count": null,
   "metadata": {
    "collapsed": true
   },
   "outputs": [],
   "source": [
    "import tensorflow as tf\n",
    "a = tf.add(1, 2,)\n",
    "b = tf.multiply(a, 3)\n",
    "c = tf.add(4, 5,)\n",
    "d = tf.multiply(c, 6,)\n",
    "e = tf.multiply(4, 5,)\n",
    "f = tf.div(c, 6,)\n",
    "g = tf.add(b, d)\n",
    "h = tf.multiply(g, f)\n",
    "\n",
    "with tf.Session() as sess:\n",
    "    writer = tf.summary.FileWriter(\"/tmp/tboard/output\", sess.graph)\n",
    "    print(sess.run(h))\n",
    "    writer.close()"
   ]
  },
  {
   "cell_type": "code",
   "execution_count": null,
   "metadata": {
    "collapsed": true
   },
   "outputs": [],
   "source": [
    "## To see visualization \n",
    "# tensorboard --logdir=/tmp/tboard/output\n"
   ]
  },
  {
   "cell_type": "code",
   "execution_count": 13,
   "metadata": {},
   "outputs": [
    {
     "name": "stdout",
     "output_type": "stream",
     "text": [
      "63\n"
     ]
    }
   ],
   "source": [
    "### Adding names to the nodes \n",
    "import tensorflow as tf\n",
    "a = tf.add(1, 2, name=\"Add_these_numbers\")\n",
    "b = tf.multiply(a, 3)\n",
    "c = tf.add(4, 5, name=\"And_These_ones\")\n",
    "d = tf.multiply(c, 6, name=\"Multiply_these_numbers\")\n",
    "e = tf.multiply(4, 5, name=\"B_add\")\n",
    "f = tf.div(c, 6, name=\"B_mul\")\n",
    "g = tf.add(b, d)\n",
    "h = tf.multiply(g, f)\n",
    "\n",
    "with tf.Session() as sess:\n",
    "    writer = tf.summary.FileWriter(\"/tmp/tboard/output2\", sess.graph)\n",
    "    print(sess.run(h))\n",
    "    writer.close()"
   ]
  },
  {
   "cell_type": "code",
   "execution_count": 2,
   "metadata": {},
   "outputs": [
    {
     "name": "stdout",
     "output_type": "stream",
     "text": [
      "63\n"
     ]
    }
   ],
   "source": [
    "import tensorflow as tf\n",
    "with tf.name_scope(\"MyOperationGroup\"):\n",
    "    with tf.name_scope(\"Scope_A\"):\n",
    "        a = tf.add(1, 2, name=\"Add_these_numbers\")\n",
    "        b = tf.multiply(a, 3)\n",
    "    with tf.name_scope(\"Scope_B\"):\n",
    "        c = tf.add(4, 5, name=\"And_These_ones\")\n",
    "        d = tf.multiply(c, 6, name=\"Multiply_these_numbers\")\n",
    "\n",
    "with tf.name_scope(\"Scope_C\"):\n",
    "    e = tf.multiply(4, 5, name=\"B_add\")\n",
    "    f = tf.div(c, 6, name=\"B_mul\")\n",
    "g = tf.add(b, d)\n",
    "h = tf.multiply(g, f)\n",
    "\n",
    "\n",
    "with tf.Session() as sess:\n",
    "    writer = tf.summary.FileWriter(\"/tmp/tboard/output3\", sess.graph)\n",
    "    print(sess.run(h))\n",
    "    writer.close()"
   ]
  },
  {
   "cell_type": "code",
   "execution_count": 20,
   "metadata": {},
   "outputs": [
    {
     "name": "stdout",
     "output_type": "stream",
     "text": [
      "4\n"
     ]
    }
   ],
   "source": [
    "import tensorflow as tf\n",
    "a = tf.multiply(2, 2,)\n",
    "b = tf.multiply(3, 3,)\n",
    "c = tf.multiply(4, 4,)\n",
    "d = tf.add(a,b,)\n",
    "e = tf.add(d,c,)\n",
    "f = tf.multiply(2,2,)\n",
    "g = tf.multiply(f,3,)\n",
    "h = tf.subtract(e,h,)\n",
    "i = tf.multiply(2,3,)\n",
    "j = tf.multiply(j,4,)\n",
    "k = tf.subtract(j,k,)\n",
    "l = tf.multiply(2,2,)\n",
    "m = tf.multiply(l,4,)\n",
    "n = tf.subtract(l,m)\n",
    "\n",
    "\n",
    "\n",
    "with tf.Session() as sess:\n",
    "    writer = tf.summary.FileWriter(\"/tmp/tboard/output_h2\", sess.graph)\n",
    "    print(sess.run(f))\n",
    "    writer.close()"
   ]
  },
  {
   "cell_type": "code",
   "execution_count": 18,
   "metadata": {},
   "outputs": [
    {
     "name": "stdout",
     "output_type": "stream",
     "text": [
      "-567\n"
     ]
    }
   ],
   "source": [
    "import tensorflow as tf\n",
    "a = tf.multiply(4,4,)\n",
    "b = tf.multiply(3, 3,)\n",
    "c = tf.add(16, 9,)\n",
    "d = tf.multiply(4, a,)\n",
    "e = tf.multiply(d, b,)\n",
    "b = tf.subtract(b, e,)\n",
    "\n",
    "with tf.Session() as sess:\n",
    "    writer = tf.summary.FileWriter(\"/tmp/tboard/output_h1\", sess.graph)\n",
    "    print(sess.run(b))\n",
    "    writer.close()\n"
   ]
  },
  {
   "cell_type": "code",
   "execution_count": 23,
   "metadata": {},
   "outputs": [
    {
     "name": "stdout",
     "output_type": "stream",
     "text": [
      "153\n"
     ]
    }
   ],
   "source": [
    "import tensorflow as tf\n",
    "with tf.name_scope(\"MyOperationGroup\"):\n",
    "    with tf.name_scope(\"Scope_A\"):\n",
    "        a = tf.multiply(2, 2, name=\"Multiply_these_numbers\")\n",
    "        b = tf.multiply(3, 3)\n",
    "    with tf.name_scope(\"Scope_B\"):\n",
    "        c = tf.add(4, 9, name=\"And_These_ones\")\n",
    "        \n",
    "with tf.name_scope(\"Scope_C\"):\n",
    "    d = tf.multiply(4, a, name=\"B_mul\")\n",
    "    e = tf.multiply(d, b, name=\"B_mul\")\n",
    "f = tf.add(b, e)\n",
    "\n",
    "\n",
    "with tf.Session() as sess:\n",
    "    writer = tf.summary.FileWriter(\"/tmp/tboard/output3\", sess.graph)\n",
    "    print(sess.run(f))\n",
    "    writer.close()"
   ]
  },
  {
   "cell_type": "code",
   "execution_count": 24,
   "metadata": {},
   "outputs": [
    {
     "name": "stdout",
     "output_type": "stream",
     "text": [
      "0\n"
     ]
    }
   ],
   "source": [
    "import tensorflow as tf\n",
    "with tf.name_scope(\"MyOperationGroup\"):\n",
    "    with tf.name_scope(\"Scope_A\"):\n",
    "        a = tf.multiply(2, 2, name=\"Multiply_these_numbers\")\n",
    "        b = tf.multiply(3, 3)\n",
    "        c = tf.multiply(4, 4)\n",
    "with tf.name_scope(\"Scope_B\"):\n",
    "        d = tf.add(a, b, name=\"And_These_ones\")\n",
    "        e = tf.add(d, c, name=\"And_These_ones\")\n",
    "        \n",
    "with tf.name_scope(\"Scope_C\"):\n",
    "    f = tf.multiply(2, 2, name=\"B_mul\")\n",
    "    g = tf.multiply(f, 3, name=\"B_mul\")\n",
    "    \n",
    "with tf.name_scope(\"Scope_D\"):\n",
    "    h = tf.subtract(j, k, name=\"B_subtract\")\n",
    "    \n",
    "with tf.name_scope(\"Scope_E\"):\n",
    "    i = tf.multiply(2, 2, name=\"B_mul\")\n",
    "    j = tf.multiply(l, 4, name=\"B_mul\")\n",
    "    \n",
    "with tf.name_scope(\"Scope_F\"):\n",
    "    k = tf.multiply(2, 2, name=\"B_mul\")\n",
    "    l = tf.multiply(l, 4, name=\"B_mul\")\n",
    "m = tf.subtract(l, m)\n",
    "    \n",
    "\n",
    "\n",
    "with tf.Session() as sess:\n",
    "    writer = tf.summary.FileWriter(\"/tmp/tboard/output3\", sess.graph)\n",
    "    print(sess.run(m))\n",
    "    writer.close()"
   ]
  },
  {
   "cell_type": "code",
   "execution_count": null,
   "metadata": {
    "collapsed": true
   },
   "outputs": [],
   "source": []
  }
 ],
 "metadata": {
  "kernelspec": {
   "display_name": "Python 3",
   "language": "python",
   "name": "python3"
  },
  "language_info": {
   "codemirror_mode": {
    "name": "ipython",
    "version": 3
   },
   "file_extension": ".py",
   "mimetype": "text/x-python",
   "name": "python",
   "nbconvert_exporter": "python",
   "pygments_lexer": "ipython3",
   "version": "3.6.1"
  }
 },
 "nbformat": 4,
 "nbformat_minor": 2
}
