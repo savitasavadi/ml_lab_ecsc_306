{
 "cells": [
  {
   "cell_type": "code",
   "execution_count": 11,
   "metadata": {},
   "outputs": [
    {
     "name": "stdout",
     "output_type": "stream",
     "text": [
      "-57\n"
     ]
    }
   ],
   "source": [
    "import tensorflow as tf\n",
    "a = tf.multiply(2, 2,)\n",
    "b = tf.multiply(3, 3,)\n",
    "c = tf.multiply(4, 4,)\n",
    "d = tf.multiply(2,2,)\n",
    "e = tf.multiply(d,3,)\n",
    "f = tf.multiply(2,3,)\n",
    "g = tf.multiply(f,4,)\n",
    "h = tf.multiply(2,2,)\n",
    "i = tf.multiply(h,4,)\n",
    "j = tf.add(a,b,)\n",
    "k = tf.add(j,c,)\n",
    "l = tf.subtract(e,k,)\n",
    "m = tf.subtract(l,g,)\n",
    "n = tf.subtract(m,i,)\n",
    "\n",
    "\n",
    "\n",
    "with tf.Session() as sess:\n",
    "    writer = tf.summary.FileWriter(\"/tmp/tboard/output_h2\", sess.graph)\n",
    "    print(sess.run(n))\n",
    "    writer.close()"
   ]
  },
  {
   "cell_type": "code",
   "execution_count": 9,
   "metadata": {},
   "outputs": [
    {
     "name": "stdout",
     "output_type": "stream",
     "text": [
      "-567\n"
     ]
    }
   ],
   "source": [
    "import tensorflow as tf\n",
    "a = tf.multiply(4,4,)\n",
    "b = tf.multiply(3, 3,)\n",
    "c = tf.add(16, 9,)\n",
    "d = tf.multiply(4, a,)\n",
    "e = tf.multiply(d, b,)\n",
    "b = tf.subtract(b, e,)\n",
    "\n",
    "with tf.Session() as sess:\n",
    "    writer = tf.summary.FileWriter(\"/tmp/tboard/output_h1\", sess.graph)\n",
    "    print(sess.run(b))\n",
    "    writer.close()\n"
   ]
  },
  {
   "cell_type": "code",
   "execution_count": 2,
   "metadata": {},
   "outputs": [
    {
     "name": "stdout",
     "output_type": "stream",
     "text": [
      "484\n"
     ]
    }
   ],
   "source": [
    "import tensorflow as tf\n",
    "with tf.name_scope(\"Scope\"):\n",
    "    with tf.name_scope(\"Sqr_a\"):\n",
    "            a=2\n",
    "            d=tf.pow(a,2)\n",
    "\n",
    "    with tf.name_scope(\"Sqr_b\"):\n",
    "            b=4\n",
    "            e=tf.pow(b,4)\n",
    "\n",
    "    with tf.name_scope(\"Sqr_c\"):\n",
    "            c=4\n",
    "            f=tf.pow(c,4)\n",
    "\n",
    "    with tf.name_scope(\"multiply\"):\n",
    "        g=tf.multiply(a,b)\n",
    "\n",
    "    with tf.name_scope(\"2ab\"):\n",
    "        h=tf.multiply(g,2)\n",
    "\n",
    "    with tf.name_scope(\"multiply\"):\n",
    "        i=tf.multiply(b,c)\n",
    "\n",
    "    with tf.name_scope(\"2bc\"):\n",
    "        j=tf.multiply(i,2)\n",
    "\n",
    "    with tf.name_scope(\"multiply\"):\n",
    "        k=tf.multiply(a,c)\n",
    "\n",
    "    with tf.name_scope(\"2ac\"):\n",
    "        l=tf.multiply(k,2)\n",
    "\n",
    "    with tf.name_scope(\"solution\"):\n",
    "        with tf.name_scope(\"add1\"):\n",
    "            m=tf.add(d,e)\n",
    "            with tf.name_scope(\"add2\"):\n",
    "                n=tf.add(m,f)\n",
    "                with tf.name_scope(\"add3\"):\n",
    "                    o=tf.add(n,h)\n",
    "                    with tf.name_scope(\"sub1\"):\n",
    "                        p=tf.subtract(o,j)\n",
    "                        with tf.name_scope(\"sub2\"):\n",
    "                            q=tf.subtract(p,l)\n",
    "\n",
    "with tf.Session() as sess:\n",
    "    writer=tf.summary.FileWriter(\"/tmp/tboard/output2\", sess.graph)\n",
    "    print(sess.run(q))\n",
    "    writer.close()\n"
   ]
  },
  {
   "cell_type": "code",
   "execution_count": 5,
   "metadata": {},
   "outputs": [
    {
     "name": "stdout",
     "output_type": "stream",
     "text": [
      "63\n"
     ]
    }
   ],
   "source": [
    "import tensorflow as tf\n",
    "with tf.name_scope(\"MyOperationGroup\"):\n",
    "    with tf.name_scope(\"Scope_A\"):\n",
    "        a = tf.add(1, 2, name=\"Add_these_numbers\")\n",
    "        b = tf.multiply(a, 3)\n",
    "    with tf.name_scope(\"Scope_B\"):\n",
    "        c = tf.add(4, 5, name=\"And_These_ones\")\n",
    "        d = tf.multiply(c, 6, name=\"Multiply_these_numbers\")\n",
    "\n",
    "with tf.name_scope(\"Scope_C\"):\n",
    "    e = tf.multiply(4, 5, name=\"B_add\")\n",
    "    f = tf.div(c, 6, name=\"B_mul\")\n",
    "g = tf.add(b, d)\n",
    "h = tf.multiply(g, f)\n",
    "\n",
    "\n",
    "with tf.Session() as sess:\n",
    "    writer = tf.summary.FileWriter(\"/tmp/tboard/output3\", sess.graph)\n",
    "    print(sess.run(h))\n",
    "    writer.close()"
   ]
  },
  {
   "cell_type": "code",
   "execution_count": null,
   "metadata": {
    "collapsed": true
   },
   "outputs": [],
   "source": []
  }
 ],
 "metadata": {
  "kernelspec": {
   "display_name": "Python 3",
   "language": "python",
   "name": "python3"
  },
  "language_info": {
   "codemirror_mode": {
    "name": "ipython",
    "version": 3
   },
   "file_extension": ".py",
   "mimetype": "text/x-python",
   "name": "python",
   "nbconvert_exporter": "python",
   "pygments_lexer": "ipython3",
   "version": "3.6.1"
  }
 },
 "nbformat": 4,
 "nbformat_minor": 2
}
