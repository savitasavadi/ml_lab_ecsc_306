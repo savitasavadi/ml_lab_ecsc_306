{
 "cells": [
  {
   "cell_type": "code",
   "execution_count": 5,
   "metadata": {
    "collapsed": true
   },
   "outputs": [],
   "source": [
    "import tensorflow as tf\n",
    "\n",
    "x = tf.constant([2,2,3],dtype=tf.float32)\n",
    "y= tf.constant([9,5,6],dtype=tf.float32)\n",
    "\n",
    "with tf.name_scope(\"mean_x\"):\n",
    "    x_mean=0\n",
    "    y_mean=0\n",
    "    for i in range(3):\n",
    "        x_mean=tf.div(tf.add(x[i],x_mean),3)\n",
    "        y_mean=tf.div(tf.add(x[i],x_mean),3)\n",
    "\n",
    "\n",
    "\n",
    "\n"
   ]
  },
  {
   "cell_type": "code",
   "execution_count": 6,
   "metadata": {
    "collapsed": true
   },
   "outputs": [],
   "source": [
    "#variancex=pow((x[i]-meanx),2)+variancex\n",
    "        \n",
    "with tf.name_scope(\"variancex\"):\n",
    "    variancex=0\n",
    "    for i in range(3):\n",
    "        a=tf.subtract(x[i],x_mean)\n",
    "        b=tf.pow(a,2)\n",
    "        variancex=tf.add(b,variancex)\n",
    "\n",
    "    \n",
    "        \n"
   ]
  },
  {
   "cell_type": "code",
   "execution_count": 7,
   "metadata": {
    "collapsed": true
   },
   "outputs": [],
   "source": [
    "#$$covariance = sum((x(i) - mean(x)) * (y(i) - mean(y)))$$\n",
    "with tf.name_scope(\"covariance\"):\n",
    "    covariancex=0\n",
    "    for i in range(3):\n",
    "        covariancex=tf.add(tf.multiply(tf.subtract(x[i],x_mean),tf.subtract(y[i],y_mean)),covariancex)\n",
    "\n",
    "                           "
   ]
  },
  {
   "cell_type": "code",
   "execution_count": 8,
   "metadata": {
    "collapsed": true
   },
   "outputs": [],
   "source": [
    "#$$c = covariance(x,y)/variance(x)$$\n",
    "with tf.name_scope(\"c\"):\n",
    "    c=tf.div(covariancex,variancex)\n"
   ]
  },
  {
   "cell_type": "code",
   "execution_count": 74,
   "metadata": {},
   "outputs": [
    {
     "name": "stdout",
     "output_type": "stream",
     "text": [
      "1.25926\n",
      "1.41975\n",
      "3.64609\n",
      "9.9561\n",
      "2.73062\n",
      "-2.01881\n"
     ]
    }
   ],
   "source": [
    "#$$m = mean(y) -c* mean(x)$$\n",
    "with tf.name_scope(\"m\"):\n",
    "    m=tf.subtract(y_mean,tf.multiply(c,x_mean))\n",
    "with tf.Session() as sess:\n",
    "    writer = tf.summary.FileWriter(\"/tmp/tboard/output1\", sess.graph)\n",
    "    print(sess.run(x_mean))\n",
    "    print(sess.run(y_mean))\n",
    "    print(sess.run(variancex))\n",
    "    print(sess.run(covariancex))\n",
    "    print(sess.run(c))\n",
    "    print(sess.run(m))\n",
    "    writer.close()"
   ]
  },
  {
   "cell_type": "code",
   "execution_count": null,
   "metadata": {
    "collapsed": true
   },
   "outputs": [],
   "source": []
  }
 ],
 "metadata": {
  "kernelspec": {
   "display_name": "Python 3",
   "language": "python",
   "name": "python3"
  },
  "language_info": {
   "codemirror_mode": {
    "name": "ipython",
    "version": 3
   },
   "file_extension": ".py",
   "mimetype": "text/x-python",
   "name": "python",
   "nbconvert_exporter": "python",
   "pygments_lexer": "ipython3",
   "version": "3.6.1"
  }
 },
 "nbformat": 4,
 "nbformat_minor": 2
}
